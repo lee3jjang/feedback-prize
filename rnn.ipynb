{
 "cells": [
  {
   "cell_type": "code",
   "execution_count": 23,
   "metadata": {},
   "outputs": [],
   "source": [
    "import numpy as np\n",
    "import tensorflow as tf\n",
    "from tensorflow.keras.models import Sequential\n",
    "from tensorflow.keras.layers import SimpleRNN"
   ]
  },
  {
   "cell_type": "code",
   "execution_count": 44,
   "metadata": {},
   "outputs": [
    {
     "data": {
      "text/plain": [
       "<tf.Tensor: shape=(10, 3), dtype=float32, numpy=\n",
       "array([[ 0.11485822, -0.44158757, -0.0795122 ],\n",
       "       [-0.11337424, -0.35849753, -0.1021603 ],\n",
       "       [-0.6073343 , -0.65774554,  0.35940346],\n",
       "       [-0.41549483,  0.09622783,  0.1401285 ],\n",
       "       [-0.9189465 ,  0.3392047 , -0.7369036 ],\n",
       "       [-0.42994514,  0.3510389 , -0.19919974],\n",
       "       [-0.7659231 ,  0.37993652, -0.05670412],\n",
       "       [ 0.37571976,  0.21577589,  0.8107999 ],\n",
       "       [ 0.59885323, -0.37553552,  0.5359785 ],\n",
       "       [-0.7716023 , -0.64985716,  0.18308482]], dtype=float32)>"
      ]
     },
     "execution_count": 44,
     "metadata": {},
     "output_type": "execute_result"
    }
   ],
   "source": [
    "model = Sequential()\n",
    "model.add(SimpleRNN(3, input_shape=(2, 10)))\n",
    "# model.summary()\n",
    "\n",
    "inputs = tf.random.uniform(shape=(10, 2, 10))\n",
    "model(inputs)"
   ]
  },
  {
   "cell_type": "code",
   "execution_count": 45,
   "metadata": {},
   "outputs": [
    {
     "data": {
      "text/plain": [
       "<tf.Tensor: shape=(8, 2, 3), dtype=float32, numpy=\n",
       "array([[[ 0.7386165 ,  0.89062023, -0.6802923 ],\n",
       "        [-0.5478692 ,  0.11330802, -0.5052791 ]],\n",
       "\n",
       "       [[ 0.41592577,  0.6300952 , -0.79307556],\n",
       "        [-0.16506836,  0.74629277, -0.56727874]],\n",
       "\n",
       "       [[ 0.85722876,  0.87724036, -0.6203475 ],\n",
       "        [-0.7393861 ,  0.28785324, -0.7106214 ]],\n",
       "\n",
       "       [[ 0.26370367,  0.59665483, -0.62918174],\n",
       "        [-0.02623034,  0.86163   , -0.7151787 ]],\n",
       "\n",
       "       [[ 0.21735188,  0.5441058 , -0.02262796],\n",
       "        [ 0.36883625,  0.7429568 , -0.5819387 ]],\n",
       "\n",
       "       [[ 0.14870895,  0.35452184, -0.6355455 ],\n",
       "        [-0.5865347 ,  0.6892778 , -0.22183527]],\n",
       "\n",
       "       [[ 0.4685751 ,  0.6706064 , -0.4860088 ],\n",
       "        [-0.5368139 ,  0.60373074, -0.719622  ]],\n",
       "\n",
       "       [[ 0.4836301 ,  0.6484165 , -0.5012168 ],\n",
       "        [-0.1344608 ,  0.82154626, -0.40511566]]], dtype=float32)>"
      ]
     },
     "execution_count": 45,
     "metadata": {},
     "output_type": "execute_result"
    }
   ],
   "source": [
    "## return_sequences=True : 매 시점마다의 output을 출력 (False면 마지막꺼만 하는 듯)\n",
    "model = Sequential()\n",
    "model.add(SimpleRNN(3, batch_input_shape=(8, 2, 10), return_sequences=True))\n",
    "# model.summary()\n",
    "\n",
    "# inputs = tf.keras.Input(shape=(10,))\n",
    "inputs = tf.random.uniform(shape=(8, 2, 10))\n",
    "model(inputs)"
   ]
  },
  {
   "cell_type": "code",
   "execution_count": 68,
   "metadata": {},
   "outputs": [
    {
     "data": {
      "text/plain": [
       "<tf.Tensor: shape=(8, 3), dtype=float32, numpy=\n",
       "array([[-0.75150245, -0.92306495,  0.5753847 ],\n",
       "       [-0.77729553, -0.841777  ,  0.6771757 ],\n",
       "       [ 0.20919223,  0.00425312,  0.9460663 ],\n",
       "       [-0.49400848, -0.6794319 ,  0.7543757 ],\n",
       "       [-0.63229126, -0.95485884,  0.53853875],\n",
       "       [ 0.3747153 , -0.06118032,  0.8725451 ],\n",
       "       [-0.5158981 , -0.9437042 ,  0.85222715],\n",
       "       [ 0.7431789 ,  0.37153202,  0.77817225]], dtype=float32)>"
      ]
     },
     "execution_count": 68,
     "metadata": {},
     "output_type": "execute_result"
    }
   ],
   "source": [
    "model = Sequential()\n",
    "model.add(SimpleRNN(3, input_length=10, input_dim=5, return_sequences=True))\n",
    "model.add(SimpleRNN(3, return_sequences=False))\n",
    "inputs = tf.random.uniform(shape=(8, 10, 5))\n",
    "model(inputs)"
   ]
  }
 ],
 "metadata": {
  "interpreter": {
   "hash": "b3ba2566441a7c06988d0923437866b63cedc61552a5af99d1f4fb67d367b25f"
  },
  "kernelspec": {
   "display_name": "Python 3.9.7 64-bit ('base': conda)",
   "language": "python",
   "name": "python3"
  },
  "language_info": {
   "codemirror_mode": {
    "name": "ipython",
    "version": 3
   },
   "file_extension": ".py",
   "mimetype": "text/x-python",
   "name": "python",
   "nbconvert_exporter": "python",
   "pygments_lexer": "ipython3",
   "version": "3.9.7"
  },
  "orig_nbformat": 4
 },
 "nbformat": 4,
 "nbformat_minor": 2
}
