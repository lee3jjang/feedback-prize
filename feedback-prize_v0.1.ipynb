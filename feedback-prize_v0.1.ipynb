{
 "cells": [
  {
   "cell_type": "code",
   "execution_count": 57,
   "metadata": {},
   "outputs": [],
   "source": [
    "!pip --trusted-host pypi.org --trusted-host files.pythonhosted.org install -r requirements.txt -qq\n",
    "\n",
    "import os\n",
    "import gc\n",
    "import numpy as np\n",
    "import pandas as pd\n",
    "from tqdm import tqdm\n",
    "\n",
    "import torch\n",
    "from transformers import *\n",
    "from torch.utils.data import Dataset, DataLoader\n",
    "from sklearn.metrics import accuracy_score\n",
    "from ast import literal_eval"
   ]
  },
  {
   "cell_type": "code",
   "execution_count": 3,
   "metadata": {},
   "outputs": [],
   "source": [
    "# 환경설정\n",
    "## 환경변수\n",
    "VER = 26\n",
    "# LOAD_TOKENS_FROM = 'input/py-bigbird-v26'\n",
    "# LOAD_MODEL_FROM = 'input/py-bigbird-v26'\n",
    "# DOWNLOADED_MODEL_PATH = 'input/py-bigbird-v26'\n",
    "DOWNLOADED_MODEL_PATH = 'model'\n",
    "MODEL_NAME = 'google/bigbird-roberta-base'\n",
    "CONFIG = {\n",
    "    'model_name': MODEL_NAME,\n",
    "    'max_length': 1024,\n",
    "    'train_batch_size': 4,\n",
    "    'valid_batch_size': 4,\n",
    "    'epochs': 5,\n",
    "    'learning_rates': [2.5e-5, 2.5e-5, 2.5e-6, 2.5e-6, 2.5e-7],\n",
    "    'max_grad_norm': 10,\n",
    "    'device': 'cuda' if torch.cuda.is_available() else 'cpu',\n",
    "}\n",
    "COMPUTE_VAL_SCORE = True if len(os.listdir('data/test')) <= 5 else False\n",
    "\n",
    "## 기타설정\n",
    "os.makedirs('result', exist_ok=True)\n",
    "os.makedirs('model', exist_ok=True)\n",
    "os.environ['CUDA_VISIBLE_DEVICES'] = '0'"
   ]
  },
  {
   "cell_type": "code",
   "execution_count": 20,
   "metadata": {},
   "outputs": [
    {
     "name": "stderr",
     "output_type": "stream",
     "text": [
      "Downloading: 100%|██████████| 489M/489M [00:43<00:00, 11.7MB/s]    \n",
      "Some weights of the model checkpoint at google/bigbird-roberta-base were not used when initializing BigBirdForTokenClassification: ['cls.predictions.decoder.bias', 'cls.predictions.transform.dense.weight', 'cls.predictions.bias', 'cls.predictions.decoder.weight', 'cls.predictions.transform.LayerNorm.bias', 'cls.seq_relationship.weight', 'cls.predictions.transform.LayerNorm.weight', 'cls.predictions.transform.dense.bias', 'cls.seq_relationship.bias']\n",
      "- This IS expected if you are initializing BigBirdForTokenClassification from the checkpoint of a model trained on another task or with another architecture (e.g. initializing a BertForSequenceClassification model from a BertForPreTraining model).\n",
      "- This IS NOT expected if you are initializing BigBirdForTokenClassification from the checkpoint of a model that you expect to be exactly identical (initializing a BertForSequenceClassification model from a BertForSequenceClassification model).\n",
      "Some weights of BigBirdForTokenClassification were not initialized from the model checkpoint at google/bigbird-roberta-base and are newly initialized: ['classifier.bias', 'classifier.weight']\n",
      "You should probably TRAIN this model on a down-stream task to be able to use it for predictions and inference.\n"
     ]
    }
   ],
   "source": [
    "## 모델설정\n",
    "tokenizer = AutoTokenizer.from_pretrained(MODEL_NAME, add_prefix_space=True)\n",
    "tokenizer.save_pretrained('model')\n",
    "\n",
    "config_model = AutoConfig.from_pretrained(MODEL_NAME)\n",
    "config_model.num_labels = 15\n",
    "config_model.save_pretrained('model')\n",
    "\n",
    "backbone = AutoModelForTokenClassification.from_pretrained(MODEL_NAME, config=config_model)\n",
    "backbone.save_pretrained('model')"
   ]
  },
  {
   "cell_type": "code",
   "execution_count": 55,
   "metadata": {},
   "outputs": [
    {
     "name": "stderr",
     "output_type": "stream",
     "text": [
      "100%|██████████| 15594/15594 [00:00<00:00, 17578.89it/s]\n",
      "100%|██████████| 5/5 [00:00<00:00, 5017.11it/s]\n"
     ]
    }
   ],
   "source": [
    "# 데이터 불러오기\n",
    "## 다운로드 (using Kaggle API)\n",
    "# !kaggle competitions download -q -c feedback-prize-2021\n",
    "# !unzip feedback-prize-2021.zip -d data\n",
    "\n",
    "## train.csv\n",
    "train_df = pd.read_csv('data/train.csv')\n",
    "\n",
    "## train\n",
    "train_ids, train_texts = [], []\n",
    "for f in tqdm(os.listdir('data/train')):\n",
    "    train_ids.append(f.replace('.txt', ''))\n",
    "    train_texts.append(open(f'data/train/{f}', 'r', encoding='utf8').read())\n",
    "train_texts_df = pd.DataFrame({'id': train_ids, 'text': train_texts})\n",
    "\n",
    "## test\n",
    "test_ids, test_texts = [], []\n",
    "for f in tqdm(os.listdir('data/test')):\n",
    "    test_ids.append(f.replace('.txt', ''))\n",
    "    test_texts.append(open(f'data/test/{f}', 'r', encoding='utf8').read())\n",
    "test_texts_df = pd.DataFrame({'id': test_ids, 'text': test_texts})"
   ]
  }
 ],
 "metadata": {
  "interpreter": {
   "hash": "4e0b39fdc4f2df2992ef135d097972ec225e019845a073717c5b1bc8df292c8a"
  },
  "kernelspec": {
   "display_name": "Python 3.10.1 64-bit",
   "language": "python",
   "name": "python3"
  },
  "language_info": {
   "codemirror_mode": {
    "name": "ipython",
    "version": 3
   },
   "file_extension": ".py",
   "mimetype": "text/x-python",
   "name": "python",
   "nbconvert_exporter": "python",
   "pygments_lexer": "ipython3",
   "version": "3.9.9"
  },
  "orig_nbformat": 4
 },
 "nbformat": 4,
 "nbformat_minor": 2
}
